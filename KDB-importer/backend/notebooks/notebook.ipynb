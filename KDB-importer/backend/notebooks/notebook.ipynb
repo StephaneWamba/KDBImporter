{
 "cells": [
  {
   "cell_type": "code",
   "execution_count": 6,
   "id": "fcd52842",
   "metadata": {},
   "outputs": [
    {
     "name": "stdout",
     "output_type": "stream",
     "text": [
      "Obtaining file:///Users/md_76s/Desktop/arxiv-importer-platform/backend\n",
      "  Installing build dependencies ... \u001b[?25ldone\n",
      "\u001b[?25h  Checking if build backend supports build_editable ... \u001b[?25ldone\n",
      "\u001b[?25h  Getting requirements to build editable ... \u001b[?25ldone\n",
      "\u001b[?25h  Preparing editable metadata (pyproject.toml) ... \u001b[?25ldone\n",
      "\u001b[?25hRequirement already satisfied: fastapi in /opt/anaconda3/envs/arxiv/lib/python3.11/site-packages (from arxiv-importer==0.1.0) (0.116.1)\n",
      "Requirement already satisfied: uvicorn[standard] in /opt/anaconda3/envs/arxiv/lib/python3.11/site-packages (from arxiv-importer==0.1.0) (0.35.0)\n",
      "Requirement already satisfied: httpx in /opt/anaconda3/envs/arxiv/lib/python3.11/site-packages (from arxiv-importer==0.1.0) (0.28.1)\n",
      "Requirement already satisfied: pydantic in /opt/anaconda3/envs/arxiv/lib/python3.11/site-packages (from arxiv-importer==0.1.0) (2.11.7)\n",
      "Requirement already satisfied: python-dotenv in /opt/anaconda3/envs/arxiv/lib/python3.11/site-packages (from arxiv-importer==0.1.0) (1.1.1)\n",
      "Requirement already satisfied: arxiv in /opt/anaconda3/envs/arxiv/lib/python3.11/site-packages (from arxiv-importer==0.1.0) (2.2.0)\n",
      "Requirement already satisfied: feedparser~=6.0.10 in /opt/anaconda3/envs/arxiv/lib/python3.11/site-packages (from arxiv->arxiv-importer==0.1.0) (6.0.11)\n",
      "Requirement already satisfied: requests~=2.32.0 in /opt/anaconda3/envs/arxiv/lib/python3.11/site-packages (from arxiv->arxiv-importer==0.1.0) (2.32.4)\n",
      "Requirement already satisfied: sgmllib3k in /opt/anaconda3/envs/arxiv/lib/python3.11/site-packages (from feedparser~=6.0.10->arxiv->arxiv-importer==0.1.0) (1.0.0)\n",
      "Requirement already satisfied: charset_normalizer<4,>=2 in /opt/anaconda3/envs/arxiv/lib/python3.11/site-packages (from requests~=2.32.0->arxiv->arxiv-importer==0.1.0) (3.4.2)\n",
      "Requirement already satisfied: idna<4,>=2.5 in /opt/anaconda3/envs/arxiv/lib/python3.11/site-packages (from requests~=2.32.0->arxiv->arxiv-importer==0.1.0) (3.10)\n",
      "Requirement already satisfied: urllib3<3,>=1.21.1 in /opt/anaconda3/envs/arxiv/lib/python3.11/site-packages (from requests~=2.32.0->arxiv->arxiv-importer==0.1.0) (2.5.0)\n",
      "Requirement already satisfied: certifi>=2017.4.17 in /opt/anaconda3/envs/arxiv/lib/python3.11/site-packages (from requests~=2.32.0->arxiv->arxiv-importer==0.1.0) (2025.7.14)\n",
      "Requirement already satisfied: starlette<0.48.0,>=0.40.0 in /opt/anaconda3/envs/arxiv/lib/python3.11/site-packages (from fastapi->arxiv-importer==0.1.0) (0.47.2)\n",
      "Requirement already satisfied: typing-extensions>=4.8.0 in /opt/anaconda3/envs/arxiv/lib/python3.11/site-packages (from fastapi->arxiv-importer==0.1.0) (4.14.1)\n",
      "Requirement already satisfied: annotated-types>=0.6.0 in /opt/anaconda3/envs/arxiv/lib/python3.11/site-packages (from pydantic->arxiv-importer==0.1.0) (0.7.0)\n",
      "Requirement already satisfied: pydantic-core==2.33.2 in /opt/anaconda3/envs/arxiv/lib/python3.11/site-packages (from pydantic->arxiv-importer==0.1.0) (2.33.2)\n",
      "Requirement already satisfied: typing-inspection>=0.4.0 in /opt/anaconda3/envs/arxiv/lib/python3.11/site-packages (from pydantic->arxiv-importer==0.1.0) (0.4.1)\n",
      "Requirement already satisfied: anyio<5,>=3.6.2 in /opt/anaconda3/envs/arxiv/lib/python3.11/site-packages (from starlette<0.48.0,>=0.40.0->fastapi->arxiv-importer==0.1.0) (4.9.0)\n",
      "Requirement already satisfied: sniffio>=1.1 in /opt/anaconda3/envs/arxiv/lib/python3.11/site-packages (from anyio<5,>=3.6.2->starlette<0.48.0,>=0.40.0->fastapi->arxiv-importer==0.1.0) (1.3.1)\n",
      "Requirement already satisfied: httpcore==1.* in /opt/anaconda3/envs/arxiv/lib/python3.11/site-packages (from httpx->arxiv-importer==0.1.0) (1.0.9)\n",
      "Requirement already satisfied: h11>=0.16 in /opt/anaconda3/envs/arxiv/lib/python3.11/site-packages (from httpcore==1.*->httpx->arxiv-importer==0.1.0) (0.16.0)\n",
      "Requirement already satisfied: click>=7.0 in /opt/anaconda3/envs/arxiv/lib/python3.11/site-packages (from uvicorn[standard]->arxiv-importer==0.1.0) (8.2.1)\n",
      "Requirement already satisfied: httptools>=0.6.3 in /opt/anaconda3/envs/arxiv/lib/python3.11/site-packages (from uvicorn[standard]->arxiv-importer==0.1.0) (0.6.4)\n",
      "Requirement already satisfied: pyyaml>=5.1 in /opt/anaconda3/envs/arxiv/lib/python3.11/site-packages (from uvicorn[standard]->arxiv-importer==0.1.0) (6.0.2)\n",
      "Requirement already satisfied: uvloop>=0.15.1 in /opt/anaconda3/envs/arxiv/lib/python3.11/site-packages (from uvicorn[standard]->arxiv-importer==0.1.0) (0.21.0)\n",
      "Requirement already satisfied: watchfiles>=0.13 in /opt/anaconda3/envs/arxiv/lib/python3.11/site-packages (from uvicorn[standard]->arxiv-importer==0.1.0) (1.1.0)\n",
      "Requirement already satisfied: websockets>=10.4 in /opt/anaconda3/envs/arxiv/lib/python3.11/site-packages (from uvicorn[standard]->arxiv-importer==0.1.0) (15.0.1)\n",
      "Building wheels for collected packages: arxiv-importer\n",
      "  Building editable for arxiv-importer (pyproject.toml) ... \u001b[?25ldone\n",
      "\u001b[?25h  Created wheel for arxiv-importer: filename=arxiv_importer-0.1.0-0.editable-py3-none-any.whl size=1468 sha256=16243f6499b0810cfb98733ac0ac8aa580344d3c8302d4f611a1dece66301110\n",
      "  Stored in directory: /private/var/folders/f2/9p4mg3t14x5f0ld8gb3ps6hm0000gn/T/pip-ephem-wheel-cache-xyfpeo4y/wheels/25/83/73/129e5231d6fad2b61d04d235eac522b428ad39a723eb16cc21\n",
      "Successfully built arxiv-importer\n",
      "Installing collected packages: arxiv-importer\n",
      "  Attempting uninstall: arxiv-importer\n",
      "    Found existing installation: arxiv-importer 0.1.0\n",
      "    Uninstalling arxiv-importer-0.1.0:\n",
      "      Successfully uninstalled arxiv-importer-0.1.0\n",
      "Successfully installed arxiv-importer-0.1.0\n",
      "Note: you may need to restart the kernel to use updated packages.\n"
     ]
    }
   ],
   "source": [
    "pip install -e .."
   ]
  },
  {
   "cell_type": "code",
   "execution_count": 1,
   "id": "e79e473f",
   "metadata": {},
   "outputs": [
    {
     "ename": "ModuleNotFoundError",
     "evalue": "No module named 'arxiv_importer'",
     "output_type": "error",
     "traceback": [
      "\u001b[31m---------------------------------------------------------------------------\u001b[39m",
      "\u001b[31mModuleNotFoundError\u001b[39m                       Traceback (most recent call last)",
      "\u001b[36mCell\u001b[39m\u001b[36m \u001b[39m\u001b[32mIn[1]\u001b[39m\u001b[32m, line 1\u001b[39m\n\u001b[32m----> \u001b[39m\u001b[32m1\u001b[39m \u001b[38;5;28;01mfrom\u001b[39;00m\u001b[38;5;250m \u001b[39m\u001b[34;01marxiv_importer\u001b[39;00m\u001b[34;01m.\u001b[39;00m\u001b[34;01mcore\u001b[39;00m\u001b[34;01m.\u001b[39;00m\u001b[34;01mquery_parser\u001b[39;00m\u001b[38;5;250m \u001b[39m\u001b[38;5;28;01mimport\u001b[39;00m parse_input\n",
      "\u001b[31mModuleNotFoundError\u001b[39m: No module named 'arxiv_importer'"
     ]
    }
   ],
   "source": [
    "from arxiv_importer.core.query_parser import parse_input"
   ]
  },
  {
   "cell_type": "code",
   "execution_count": 2,
   "id": "fe2f7b82",
   "metadata": {},
   "outputs": [
    {
     "ename": "ModuleNotFoundError",
     "evalue": "No module named 'arxiv_importer'",
     "output_type": "error",
     "traceback": [
      "\u001b[31m---------------------------------------------------------------------------\u001b[39m",
      "\u001b[31mModuleNotFoundError\u001b[39m                       Traceback (most recent call last)",
      "\u001b[36mCell\u001b[39m\u001b[36m \u001b[39m\u001b[32mIn[2]\u001b[39m\u001b[32m, line 1\u001b[39m\n\u001b[32m----> \u001b[39m\u001b[32m1\u001b[39m \u001b[38;5;28;01mimport\u001b[39;00m\u001b[38;5;250m \u001b[39m\u001b[34;01marxiv_importer\u001b[39;00m\n",
      "\u001b[31mModuleNotFoundError\u001b[39m: No module named 'arxiv_importer'"
     ]
    }
   ],
   "source": [
    "import arxiv_importer"
   ]
  },
  {
   "cell_type": "code",
   "execution_count": 11,
   "id": "3f8016f7",
   "metadata": {},
   "outputs": [
    {
     "ename": "ModuleNotFoundError",
     "evalue": "No module named 'arxiv_importer'",
     "output_type": "error",
     "traceback": [
      "\u001b[31m---------------------------------------------------------------------------\u001b[39m",
      "\u001b[31mModuleNotFoundError\u001b[39m                       Traceback (most recent call last)",
      "\u001b[36mCell\u001b[39m\u001b[36m \u001b[39m\u001b[32mIn[11]\u001b[39m\u001b[32m, line 1\u001b[39m\n\u001b[32m----> \u001b[39m\u001b[32m1\u001b[39m \u001b[38;5;28;01mfrom\u001b[39;00m\u001b[38;5;250m \u001b[39m\u001b[34;01marxiv_importer\u001b[39;00m\u001b[34;01m.\u001b[39;00m\u001b[34;01mcore\u001b[39;00m\u001b[34;01m.\u001b[39;00m\u001b[34;01mquery_parser\u001b[39;00m\u001b[38;5;250m \u001b[39m\u001b[38;5;28;01mimport\u001b[39;00m parse_input\n\u001b[32m      2\u001b[39m \u001b[38;5;28;01mfrom\u001b[39;00m\u001b[38;5;250m \u001b[39m\u001b[34;01marxiv_importer\u001b[39;00m\u001b[34;01m.\u001b[39;00m\u001b[34;01mcore\u001b[39;00m\u001b[34;01m.\u001b[39;00m\u001b[34;01marxiv_client\u001b[39;00m\u001b[38;5;250m \u001b[39m\u001b[38;5;28;01mimport\u001b[39;00m fetch_by_id, fetch_by_query\n",
      "\u001b[31mModuleNotFoundError\u001b[39m: No module named 'arxiv_importer'"
     ]
    }
   ],
   "source": [
    "from arxiv_importer.core.query_parser import parse_input\n",
    "from arxiv_importer.core.arxiv_client import fetch_by_id, fetch_by_query"
   ]
  },
  {
   "cell_type": "code",
   "execution_count": 12,
   "id": "0a595a7f",
   "metadata": {},
   "outputs": [
    {
     "ename": "NameError",
     "evalue": "name 'parse_input' is not defined",
     "output_type": "error",
     "traceback": [
      "\u001b[31m---------------------------------------------------------------------------\u001b[39m",
      "\u001b[31mNameError\u001b[39m                                 Traceback (most recent call last)",
      "\u001b[36mCell\u001b[39m\u001b[36m \u001b[39m\u001b[32mIn[12]\u001b[39m\u001b[32m, line 18\u001b[39m\n\u001b[32m     16\u001b[39m \u001b[38;5;66;03m# Run the pipeline\u001b[39;00m\n\u001b[32m     17\u001b[39m \u001b[38;5;28;01mfor\u001b[39;00m input_str \u001b[38;5;129;01min\u001b[39;00m test_inputs:\n\u001b[32m---> \u001b[39m\u001b[32m18\u001b[39m     parsed = \u001b[43mparse_input\u001b[49m(input_str)\n\u001b[32m     19\u001b[39m     \u001b[38;5;28mprint\u001b[39m(\u001b[33mf\u001b[39m\u001b[33m\"\u001b[39m\u001b[38;5;130;01m\\n\u001b[39;00m\u001b[33m[Parsed] \u001b[39m\u001b[38;5;132;01m{\u001b[39;00mparsed.type.upper()\u001b[38;5;132;01m}\u001b[39;00m\u001b[33m → \u001b[39m\u001b[38;5;132;01m{\u001b[39;00mparsed.value\u001b[38;5;132;01m}\u001b[39;00m\u001b[33m\"\u001b[39m)\n\u001b[32m     21\u001b[39m     \u001b[38;5;28;01mif\u001b[39;00m parsed.type \u001b[38;5;129;01min\u001b[39;00m (\u001b[33m\"\u001b[39m\u001b[33mid\u001b[39m\u001b[33m\"\u001b[39m, \u001b[33m\"\u001b[39m\u001b[33murl\u001b[39m\u001b[33m\"\u001b[39m):\n",
      "\u001b[31mNameError\u001b[39m: name 'parse_input' is not defined"
     ]
    }
   ],
   "source": [
    "# If needed, append backend path for module import resolution\n",
    "import sys\n",
    "import os\n",
    "sys.path.append(os.path.abspath(\".\"))  # Adjust if needed\n",
    "\n",
    "# Import the modules\n",
    "\n",
    "\n",
    "# Define some test inputs\n",
    "test_inputs = [\n",
    "    \"2301.12345\",  # Pure ID\n",
    "    \"https://arxiv.org/abs/2301.12345v2\",  # URL\n",
    "    \"graph neural networks for chemistry\"  # Search query\n",
    "]\n",
    "\n",
    "# Run the pipeline\n",
    "for input_str in test_inputs:\n",
    "    parsed = parse_input(input_str)\n",
    "    print(f\"\\n[Parsed] {parsed.type.upper()} → {parsed.value}\")\n",
    "\n",
    "    if parsed.type in (\"id\", \"url\"):\n",
    "        result = fetch_by_id(parsed.value)\n",
    "        print(\"[Result]\", result)\n",
    "    elif parsed.type == \"search\":\n",
    "        results = fetch_by_query(parsed.value, max_results=3)\n",
    "        for i, paper in enumerate(results, 1):\n",
    "            print(f\"[{i}] {paper}\")\n"
   ]
  },
  {
   "cell_type": "code",
   "execution_count": null,
   "id": "b4b36656",
   "metadata": {},
   "outputs": [],
   "source": []
  }
 ],
 "metadata": {
  "kernelspec": {
   "display_name": "arxiv",
   "language": "python",
   "name": "python3"
  },
  "language_info": {
   "codemirror_mode": {
    "name": "ipython",
    "version": 3
   },
   "file_extension": ".py",
   "mimetype": "text/x-python",
   "name": "python",
   "nbconvert_exporter": "python",
   "pygments_lexer": "ipython3",
   "version": "3.11.13"
  }
 },
 "nbformat": 4,
 "nbformat_minor": 5
}
